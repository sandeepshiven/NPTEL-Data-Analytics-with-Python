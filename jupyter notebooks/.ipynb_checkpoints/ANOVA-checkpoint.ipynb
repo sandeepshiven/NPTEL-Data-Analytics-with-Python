{
 "cells": [
  {
   "cell_type": "markdown",
   "metadata": {},
   "source": [
    "# ANOVA with Python"
   ]
  },
  {
   "cell_type": "code",
   "execution_count": 44,
   "metadata": {},
   "outputs": [],
   "source": [
    "from scipy import stats\n",
    "import pandas as pd\n",
    "\n",
    "a = [4,3,2]\n",
    "b = [2,4,6]\n",
    "c = [2,1,3]"
   ]
  },
  {
   "cell_type": "code",
   "execution_count": 45,
   "metadata": {},
   "outputs": [
    {
     "data": {
      "text/plain": [
       "F_onewayResult(statistic=1.5, pvalue=0.2962962962962962)"
      ]
     },
     "execution_count": 45,
     "metadata": {},
     "output_type": "execute_result"
    }
   ],
   "source": [
    "stats.f_oneway(a,b,c)"
   ]
  },
  {
   "cell_type": "markdown",
   "metadata": {},
   "source": [
    "## Transforming tables"
   ]
  },
  {
   "cell_type": "code",
   "execution_count": 46,
   "metadata": {},
   "outputs": [
    {
     "data": {
      "text/html": [
       "<div>\n",
       "<style scoped>\n",
       "    .dataframe tbody tr th:only-of-type {\n",
       "        vertical-align: middle;\n",
       "    }\n",
       "\n",
       "    .dataframe tbody tr th {\n",
       "        vertical-align: top;\n",
       "    }\n",
       "\n",
       "    .dataframe thead th {\n",
       "        text-align: right;\n",
       "    }\n",
       "</style>\n",
       "<table border=\"1\" class=\"dataframe\">\n",
       "  <thead>\n",
       "    <tr style=\"text-align: right;\">\n",
       "      <th></th>\n",
       "      <th>Black Board</th>\n",
       "      <th>Case Presentation</th>\n",
       "      <th>PPT</th>\n",
       "    </tr>\n",
       "  </thead>\n",
       "  <tbody>\n",
       "    <tr>\n",
       "      <th>0</th>\n",
       "      <td>4</td>\n",
       "      <td>2</td>\n",
       "      <td>2</td>\n",
       "    </tr>\n",
       "    <tr>\n",
       "      <th>1</th>\n",
       "      <td>3</td>\n",
       "      <td>4</td>\n",
       "      <td>1</td>\n",
       "    </tr>\n",
       "    <tr>\n",
       "      <th>2</th>\n",
       "      <td>2</td>\n",
       "      <td>6</td>\n",
       "      <td>3</td>\n",
       "    </tr>\n",
       "  </tbody>\n",
       "</table>\n",
       "</div>"
      ],
      "text/plain": [
       "   Black Board   Case Presentation    PPT \n",
       "0             4                    2     2\n",
       "1             3                    4     1\n",
       "2             2                    6     3"
      ]
     },
     "execution_count": 46,
     "metadata": {},
     "output_type": "execute_result"
    }
   ],
   "source": [
    "df = pd.read_excel(\"/media/sandeep/sandeep files1/github/data analytics/data files/oneway.xlsx\")\n",
    "df"
   ]
  },
  {
   "cell_type": "code",
   "execution_count": 47,
   "metadata": {},
   "outputs": [],
   "source": [
    "df = df.rename(columns = {df.columns[0]:\"Teaching method 1\",df.columns[1]:\"Teaching method 2\",df.columns[2]:\"Teaching method 3\"})"
   ]
  },
  {
   "cell_type": "code",
   "execution_count": 48,
   "metadata": {},
   "outputs": [
    {
     "data": {
      "text/html": [
       "<div>\n",
       "<style scoped>\n",
       "    .dataframe tbody tr th:only-of-type {\n",
       "        vertical-align: middle;\n",
       "    }\n",
       "\n",
       "    .dataframe tbody tr th {\n",
       "        vertical-align: top;\n",
       "    }\n",
       "\n",
       "    .dataframe thead th {\n",
       "        text-align: right;\n",
       "    }\n",
       "</style>\n",
       "<table border=\"1\" class=\"dataframe\">\n",
       "  <thead>\n",
       "    <tr style=\"text-align: right;\">\n",
       "      <th></th>\n",
       "      <th>Teaching method 1</th>\n",
       "      <th>Teaching method 2</th>\n",
       "      <th>Teaching method 3</th>\n",
       "    </tr>\n",
       "  </thead>\n",
       "  <tbody>\n",
       "    <tr>\n",
       "      <th>0</th>\n",
       "      <td>4</td>\n",
       "      <td>2</td>\n",
       "      <td>2</td>\n",
       "    </tr>\n",
       "    <tr>\n",
       "      <th>1</th>\n",
       "      <td>3</td>\n",
       "      <td>4</td>\n",
       "      <td>1</td>\n",
       "    </tr>\n",
       "    <tr>\n",
       "      <th>2</th>\n",
       "      <td>2</td>\n",
       "      <td>6</td>\n",
       "      <td>3</td>\n",
       "    </tr>\n",
       "  </tbody>\n",
       "</table>\n",
       "</div>"
      ],
      "text/plain": [
       "   Teaching method 1  Teaching method 2  Teaching method 3\n",
       "0                  4                  2                  2\n",
       "1                  3                  4                  1\n",
       "2                  2                  6                  3"
      ]
     },
     "execution_count": 48,
     "metadata": {},
     "output_type": "execute_result"
    }
   ],
   "source": [
    "df"
   ]
  },
  {
   "cell_type": "code",
   "execution_count": 49,
   "metadata": {},
   "outputs": [],
   "source": [
    "df =pd.melt(df.reset_index(),id_vars=['index'], value_vars=['Teaching method 1','Teaching method 2','Teaching method 3'],\n",
    "        var_name='Treatment', value_name=\"value\")"
   ]
  },
  {
   "cell_type": "code",
   "execution_count": 50,
   "metadata": {
    "scrolled": true
   },
   "outputs": [
    {
     "data": {
      "text/html": [
       "<div>\n",
       "<style scoped>\n",
       "    .dataframe tbody tr th:only-of-type {\n",
       "        vertical-align: middle;\n",
       "    }\n",
       "\n",
       "    .dataframe tbody tr th {\n",
       "        vertical-align: top;\n",
       "    }\n",
       "\n",
       "    .dataframe thead th {\n",
       "        text-align: right;\n",
       "    }\n",
       "</style>\n",
       "<table border=\"1\" class=\"dataframe\">\n",
       "  <thead>\n",
       "    <tr style=\"text-align: right;\">\n",
       "      <th></th>\n",
       "      <th>index</th>\n",
       "      <th>Treatment</th>\n",
       "      <th>value</th>\n",
       "    </tr>\n",
       "  </thead>\n",
       "  <tbody>\n",
       "    <tr>\n",
       "      <th>0</th>\n",
       "      <td>0</td>\n",
       "      <td>Teaching method 1</td>\n",
       "      <td>4</td>\n",
       "    </tr>\n",
       "    <tr>\n",
       "      <th>1</th>\n",
       "      <td>1</td>\n",
       "      <td>Teaching method 1</td>\n",
       "      <td>3</td>\n",
       "    </tr>\n",
       "    <tr>\n",
       "      <th>2</th>\n",
       "      <td>2</td>\n",
       "      <td>Teaching method 1</td>\n",
       "      <td>2</td>\n",
       "    </tr>\n",
       "    <tr>\n",
       "      <th>3</th>\n",
       "      <td>0</td>\n",
       "      <td>Teaching method 2</td>\n",
       "      <td>2</td>\n",
       "    </tr>\n",
       "    <tr>\n",
       "      <th>4</th>\n",
       "      <td>1</td>\n",
       "      <td>Teaching method 2</td>\n",
       "      <td>4</td>\n",
       "    </tr>\n",
       "    <tr>\n",
       "      <th>5</th>\n",
       "      <td>2</td>\n",
       "      <td>Teaching method 2</td>\n",
       "      <td>6</td>\n",
       "    </tr>\n",
       "    <tr>\n",
       "      <th>6</th>\n",
       "      <td>0</td>\n",
       "      <td>Teaching method 3</td>\n",
       "      <td>2</td>\n",
       "    </tr>\n",
       "    <tr>\n",
       "      <th>7</th>\n",
       "      <td>1</td>\n",
       "      <td>Teaching method 3</td>\n",
       "      <td>1</td>\n",
       "    </tr>\n",
       "    <tr>\n",
       "      <th>8</th>\n",
       "      <td>2</td>\n",
       "      <td>Teaching method 3</td>\n",
       "      <td>3</td>\n",
       "    </tr>\n",
       "  </tbody>\n",
       "</table>\n",
       "</div>"
      ],
      "text/plain": [
       "   index          Treatment  value\n",
       "0      0  Teaching method 1      4\n",
       "1      1  Teaching method 1      3\n",
       "2      2  Teaching method 1      2\n",
       "3      0  Teaching method 2      2\n",
       "4      1  Teaching method 2      4\n",
       "5      2  Teaching method 2      6\n",
       "6      0  Teaching method 3      2\n",
       "7      1  Teaching method 3      1\n",
       "8      2  Teaching method 3      3"
      ]
     },
     "execution_count": 50,
     "metadata": {},
     "output_type": "execute_result"
    }
   ],
   "source": [
    "df"
   ]
  },
  {
   "cell_type": "code",
   "execution_count": 52,
   "metadata": {},
   "outputs": [],
   "source": [
    "from statsmodels.formula.api import ols\n",
    "import statsmodels.api as sm\n"
   ]
  },
  {
   "cell_type": "code",
   "execution_count": null,
   "metadata": {},
   "outputs": [],
   "source": []
  },
  {
   "cell_type": "code",
   "execution_count": 53,
   "metadata": {},
   "outputs": [],
   "source": [
    "model = ols('value~C(Treatment)', data=df).fit() # still don't know how exactly it works\n",
    "# roughly I think it performs linear regression\n",
    "# ols = ordinary least square"
   ]
  },
  {
   "cell_type": "code",
   "execution_count": 54,
   "metadata": {},
   "outputs": [],
   "source": [
    "anova_table = sm.stats.anova_lm(model, type=1)"
   ]
  },
  {
   "cell_type": "code",
   "execution_count": 55,
   "metadata": {},
   "outputs": [
    {
     "data": {
      "text/html": [
       "<div>\n",
       "<style scoped>\n",
       "    .dataframe tbody tr th:only-of-type {\n",
       "        vertical-align: middle;\n",
       "    }\n",
       "\n",
       "    .dataframe tbody tr th {\n",
       "        vertical-align: top;\n",
       "    }\n",
       "\n",
       "    .dataframe thead th {\n",
       "        text-align: right;\n",
       "    }\n",
       "</style>\n",
       "<table border=\"1\" class=\"dataframe\">\n",
       "  <thead>\n",
       "    <tr style=\"text-align: right;\">\n",
       "      <th></th>\n",
       "      <th>df</th>\n",
       "      <th>sum_sq</th>\n",
       "      <th>mean_sq</th>\n",
       "      <th>F</th>\n",
       "      <th>PR(&gt;F)</th>\n",
       "    </tr>\n",
       "  </thead>\n",
       "  <tbody>\n",
       "    <tr>\n",
       "      <th>C(Treatment)</th>\n",
       "      <td>2.0</td>\n",
       "      <td>6.0</td>\n",
       "      <td>3.0</td>\n",
       "      <td>1.5</td>\n",
       "      <td>0.296296</td>\n",
       "    </tr>\n",
       "    <tr>\n",
       "      <th>Residual</th>\n",
       "      <td>6.0</td>\n",
       "      <td>12.0</td>\n",
       "      <td>2.0</td>\n",
       "      <td>NaN</td>\n",
       "      <td>NaN</td>\n",
       "    </tr>\n",
       "  </tbody>\n",
       "</table>\n",
       "</div>"
      ],
      "text/plain": [
       "               df  sum_sq  mean_sq    F    PR(>F)\n",
       "C(Treatment)  2.0     6.0      3.0  1.5  0.296296\n",
       "Residual      6.0    12.0      2.0  NaN       NaN"
      ]
     },
     "execution_count": 55,
     "metadata": {},
     "output_type": "execute_result"
    }
   ],
   "source": [
    "anova_table"
   ]
  },
  {
   "cell_type": "markdown",
   "metadata": {},
   "source": [
    "# The completely randomized single-factor experiment example\n",
    "\n",
    "- A manufacturer of paper that is used for making\n",
    "grocery bags is interested in improving the tensile\n",
    "strength of the product\n",
    "- Product engineer thinks that tensile strength is a\n",
    "function of the hardwood concentration in the\n",
    "pulp and that the range of hardwood\n",
    "concentrations of practical interest is between 5\n",
    "and 20%.\n",
    "- A team of engineers responsible for the study decides to investigate four\n",
    "levels of hardwood concentration: 5%, 10%, 15%, and 20%.\n",
    "- They decide to make up six test specimens at each concentration level,\n",
    "using a pilot plant.\n",
    "- All 24 specimens are tested on a laboratory tensile tester, in random order.\n",
    "The data from this experiment are shown in Table<br/>\n",
    "<br/>\n",
    "- Tensile Strength of Paper (psi)\n",
    "\n"
   ]
  },
  {
   "attachments": {},
   "cell_type": "markdown",
   "metadata": {},
   "source": [
    "<style type=\"text/css\">\n",
    ".tg  {border-collapse:collapse;border-spacing:0;}\n",
    ".tg td{font-family:Arial, sans-serif;font-size:14px;padding:10px 5px;border-style:solid;border-width:1px;overflow:hidden;word-break:normal;border-color:black;}\n",
    ".tg th{font-family:Arial, sans-serif;font-size:14px;font-weight:normal;padding:10px 5px;border-style:solid;border-width:1px;overflow:hidden;word-break:normal;border-color:black;}\n",
    ".tg .tg-4f5z{border-color:#013300;text-align:center;vertical-align:top}\n",
    ".tg .tg-l8kr{border-color:#013300;text-align:left;vertical-align:top}\n",
    "</style>\n",
    "<table class=\"tg\">\n",
    "  <tr>\n",
    "    <th class=\"tg-4f5z\" rowspan=\"2\">Hardwood<br>Concentration (%)</th>\n",
    "    <th class=\"tg-4f5z\" colspan=\"6\">Observations</th>\n",
    "    <th class=\"tg-4f5z\" rowspan=\"2\">Total</th>\n",
    "    <th class=\"tg-4f5z\" rowspan=\"2\">Avg<br></th>\n",
    "  </tr>\n",
    "  <tr>\n",
    "    <td class=\"tg-l8kr\">1</td>\n",
    "    <td class=\"tg-l8kr\">2</td>\n",
    "    <td class=\"tg-l8kr\">3</td>\n",
    "    <td class=\"tg-l8kr\">4</td>\n",
    "    <td class=\"tg-l8kr\">5</td>\n",
    "    <td class=\"tg-l8kr\">6</td>\n",
    "  </tr>\n",
    "  <tr>\n",
    "    <td class=\"tg-l8kr\">5</td>\n",
    "    <td class=\"tg-l8kr\">7</td>\n",
    "    <td class=\"tg-l8kr\">8</td>\n",
    "    <td class=\"tg-l8kr\">15</td>\n",
    "    <td class=\"tg-l8kr\">11</td>\n",
    "    <td class=\"tg-l8kr\">9</td>\n",
    "    <td class=\"tg-l8kr\">10</td>\n",
    "    <td class=\"tg-l8kr\">60</td>\n",
    "    <td class=\"tg-l8kr\">10.00</td>\n",
    "  </tr>\n",
    "  <tr>\n",
    "    <td class=\"tg-l8kr\">10</td>\n",
    "    <td class=\"tg-l8kr\">12</td>\n",
    "    <td class=\"tg-l8kr\">17</td>\n",
    "    <td class=\"tg-l8kr\">13</td>\n",
    "    <td class=\"tg-l8kr\">18</td>\n",
    "    <td class=\"tg-l8kr\">19</td>\n",
    "    <td class=\"tg-l8kr\">15</td>\n",
    "    <td class=\"tg-l8kr\">94</td>\n",
    "    <td class=\"tg-l8kr\">15.67</td>\n",
    "  </tr>\n",
    "  <tr>\n",
    "    <td class=\"tg-l8kr\">15</td>\n",
    "    <td class=\"tg-l8kr\">14</td>\n",
    "    <td class=\"tg-l8kr\">18</td>\n",
    "    <td class=\"tg-l8kr\">19</td>\n",
    "    <td class=\"tg-l8kr\">17</td>\n",
    "    <td class=\"tg-l8kr\">16</td>\n",
    "    <td class=\"tg-l8kr\">18</td>\n",
    "    <td class=\"tg-l8kr\">102</td>\n",
    "    <td class=\"tg-l8kr\">17.00</td>\n",
    "  </tr>\n",
    "  <tr>\n",
    "    <td class=\"tg-l8kr\">20</td>\n",
    "    <td class=\"tg-l8kr\">19</td>\n",
    "    <td class=\"tg-l8kr\">25</td>\n",
    "    <td class=\"tg-l8kr\">22</td>\n",
    "    <td class=\"tg-l8kr\">23</td>\n",
    "    <td class=\"tg-l8kr\">18</td>\n",
    "    <td class=\"tg-l8kr\">20</td>\n",
    "    <td class=\"tg-l8kr\">127</td>\n",
    "    <td class=\"tg-l8kr\">21.17</td>\n",
    "  </tr>\n",
    "  <tr>\n",
    "    <td class=\"tg-l8kr\"></td>\n",
    "    <td class=\"tg-l8kr\"></td>\n",
    "    <td class=\"tg-l8kr\"></td>\n",
    "    <td class=\"tg-l8kr\"></td>\n",
    "    <td class=\"tg-l8kr\"></td>\n",
    "    <td class=\"tg-l8kr\"></td>\n",
    "    <td class=\"tg-l8kr\"></td>\n",
    "    <td class=\"tg-l8kr\">383</td>\n",
    "    <td class=\"tg-l8kr\">15.96</td>\n",
    "  </tr>\n",
    "</table>"
   ]
  },
  {
   "cell_type": "code",
   "execution_count": 56,
   "metadata": {},
   "outputs": [],
   "source": [
    "five_per = [7, 8, 15, 11, 9, 10]\n",
    "ten_per = [12, 17, 13, 18, 19, 15]\n",
    "fifteen_per = [14, 18, 19, 17, 16, 18]\n",
    "twenty_per = [19, 25, 22, 23, 18, 20]\n",
    "\n",
    "from matplotlib import pyplot as plt\n"
   ]
  },
  {
   "cell_type": "code",
   "execution_count": 57,
   "metadata": {},
   "outputs": [
    {
     "data": {
      "image/png": "[encoded data removed]",
      "text/plain": [
       "<Figure size 432x288 with 1 Axes>"
      ]
     },
     "metadata": {
      "needs_background": "light"
     },
     "output_type": "display_data"
    }
   ],
   "source": [
    "data = [five_per, ten_per, fifteen_per, twenty_per]\n",
    "plt.boxplot(data)\n",
    "plt.show()"
   ]
  },
  {
   "cell_type": "markdown",
   "metadata": {},
   "source": [
    "- Consider the paper tensile strength experiment described.\n",
    "- We can use the analysis of variance to test the hypothesis that different\n",
    "hardwood concentrations do not affect the mean tensile strength of the\n",
    "paper.\n",
    "- The hypotheses are\n",
    "- H 0 : $\\tau$<sub>1</sub>=$\\tau$<sub>2</sub>=$\\tau$<sub>3</sub>=$\\tau$<sub>4</sub>=0\n",
    "- H 1 : $\\tau$<sub>i</sub>$\\neq$0 for at least one i\n",
    "- We will use a = 0.01."
   ]
  },
  {
   "cell_type": "code",
   "execution_count": 58,
   "metadata": {},
   "outputs": [],
   "source": [
    "import itertools\n",
    "import numpy as np\n",
    "\n",
    "\n",
    "def cal_sst(*args):\n",
    "    fin_list= np.array(list(itertools.chain.from_iterable(args)))\n",
    "    return ((fin_list.std()**2)*len(fin_list), len(fin_list)-1)\n",
    "\n",
    "\n",
    "def cal_sstr(*args):\n",
    "    res=0\n",
    "    total_mean= np.array(list(itertools.chain.from_iterable(args))).mean()\n",
    "    for i in args:\n",
    "        arr = np.array(i)\n",
    "        res +=  (len(i)*(total_mean-arr.mean())**2)\n",
    "    return (res, len(args)-1)"
   ]
  },
  {
   "cell_type": "code",
   "execution_count": 59,
   "metadata": {},
   "outputs": [],
   "source": [
    "SST = cal_sst(five_per, ten_per, fifteen_per, twenty_per)"
   ]
  },
  {
   "cell_type": "code",
   "execution_count": 60,
   "metadata": {},
   "outputs": [
    {
     "data": {
      "text/plain": [
       "(512.9583333333335, 23)"
      ]
     },
     "execution_count": 60,
     "metadata": {},
     "output_type": "execute_result"
    }
   ],
   "source": [
    "SST"
   ]
  },
  {
   "cell_type": "code",
   "execution_count": 61,
   "metadata": {},
   "outputs": [],
   "source": [
    "SSTR = cal_sstr(five_per, ten_per, fifteen_per, twenty_per)"
   ]
  },
  {
   "cell_type": "code",
   "execution_count": 62,
   "metadata": {},
   "outputs": [
    {
     "data": {
      "text/plain": [
       "(382.79166666666674, 3)"
      ]
     },
     "execution_count": 62,
     "metadata": {},
     "output_type": "execute_result"
    }
   ],
   "source": [
    "SSTR"
   ]
  },
  {
   "cell_type": "code",
   "execution_count": 63,
   "metadata": {},
   "outputs": [],
   "source": [
    "F = (SSTR[0]/SSTR[1])/((SST[0]-SSTR[0])/(SST[1]-SSTR[1]))"
   ]
  },
  {
   "cell_type": "code",
   "execution_count": 64,
   "metadata": {},
   "outputs": [
    {
     "data": {
      "text/plain": [
       "19.605206999573188"
      ]
     },
     "execution_count": 64,
     "metadata": {},
     "output_type": "execute_result"
    }
   ],
   "source": [
    "F"
   ]
  },
  {
   "cell_type": "code",
   "execution_count": 68,
   "metadata": {},
   "outputs": [
    {
     "data": {
      "text/plain": [
       "3.5925782584378396e-06"
      ]
     },
     "execution_count": 68,
     "metadata": {},
     "output_type": "execute_result"
    }
   ],
   "source": [
    "1-stats.f.cdf(F,SSTR[1],(SST[1]-SSTR[1]))\n"
   ]
  },
  {
   "cell_type": "code",
   "execution_count": 69,
   "metadata": {},
   "outputs": [
    {
     "data": {
      "text/plain": [
       "F_onewayResult(statistic=19.605206999573184, pvalue=3.5925782584743027e-06)"
      ]
     },
     "execution_count": 69,
     "metadata": {},
     "output_type": "execute_result"
    }
   ],
   "source": [
    "# easier way\n",
    "stats.f_oneway(five_per, ten_per, fifteen_per, twenty_per)"
   ]
  },
  {
   "cell_type": "code",
   "execution_count": 85,
   "metadata": {},
   "outputs": [],
   "source": [
    "df = pd.read_excel(\"/media/sandeep/sandeep files1/github/data analytics/data files/Tensile strength of paper.xlsx\")\n",
    "\n",
    "df = df.rename(columns = {df.columns[i]:'concentration'+str(i*5 +5) for i in range(len(df.columns))})"
   ]
  },
  {
   "cell_type": "code",
   "execution_count": 86,
   "metadata": {},
   "outputs": [
    {
     "data": {
      "text/html": [
       "<div>\n",
       "<style scoped>\n",
       "    .dataframe tbody tr th:only-of-type {\n",
       "        vertical-align: middle;\n",
       "    }\n",
       "\n",
       "    .dataframe tbody tr th {\n",
       "        vertical-align: top;\n",
       "    }\n",
       "\n",
       "    .dataframe thead th {\n",
       "        text-align: right;\n",
       "    }\n",
       "</style>\n",
       "<table border=\"1\" class=\"dataframe\">\n",
       "  <thead>\n",
       "    <tr style=\"text-align: right;\">\n",
       "      <th></th>\n",
       "      <th>concentration5</th>\n",
       "      <th>concentration10</th>\n",
       "      <th>concentration15</th>\n",
       "      <th>concentration20</th>\n",
       "    </tr>\n",
       "  </thead>\n",
       "  <tbody>\n",
       "    <tr>\n",
       "      <th>0</th>\n",
       "      <td>7</td>\n",
       "      <td>12</td>\n",
       "      <td>14</td>\n",
       "      <td>19</td>\n",
       "    </tr>\n",
       "    <tr>\n",
       "      <th>1</th>\n",
       "      <td>8</td>\n",
       "      <td>17</td>\n",
       "      <td>18</td>\n",
       "      <td>25</td>\n",
       "    </tr>\n",
       "    <tr>\n",
       "      <th>2</th>\n",
       "      <td>15</td>\n",
       "      <td>13</td>\n",
       "      <td>19</td>\n",
       "      <td>22</td>\n",
       "    </tr>\n",
       "    <tr>\n",
       "      <th>3</th>\n",
       "      <td>11</td>\n",
       "      <td>18</td>\n",
       "      <td>17</td>\n",
       "      <td>23</td>\n",
       "    </tr>\n",
       "    <tr>\n",
       "      <th>4</th>\n",
       "      <td>9</td>\n",
       "      <td>19</td>\n",
       "      <td>16</td>\n",
       "      <td>18</td>\n",
       "    </tr>\n",
       "    <tr>\n",
       "      <th>5</th>\n",
       "      <td>10</td>\n",
       "      <td>15</td>\n",
       "      <td>18</td>\n",
       "      <td>20</td>\n",
       "    </tr>\n",
       "  </tbody>\n",
       "</table>\n",
       "</div>"
      ],
      "text/plain": [
       "   concentration5  concentration10  concentration15  concentration20\n",
       "0               7               12               14               19\n",
       "1               8               17               18               25\n",
       "2              15               13               19               22\n",
       "3              11               18               17               23\n",
       "4               9               19               16               18\n",
       "5              10               15               18               20"
      ]
     },
     "execution_count": 86,
     "metadata": {},
     "output_type": "execute_result"
    }
   ],
   "source": [
    "df"
   ]
  },
  {
   "cell_type": "code",
   "execution_count": 88,
   "metadata": {},
   "outputs": [
    {
     "data": {
      "text/html": [
       "<div>\n",
       "<style scoped>\n",
       "    .dataframe tbody tr th:only-of-type {\n",
       "        vertical-align: middle;\n",
       "    }\n",
       "\n",
       "    .dataframe tbody tr th {\n",
       "        vertical-align: top;\n",
       "    }\n",
       "\n",
       "    .dataframe thead th {\n",
       "        text-align: right;\n",
       "    }\n",
       "</style>\n",
       "<table border=\"1\" class=\"dataframe\">\n",
       "  <thead>\n",
       "    <tr style=\"text-align: right;\">\n",
       "      <th></th>\n",
       "      <th>index</th>\n",
       "      <th>Treatment</th>\n",
       "      <th>value</th>\n",
       "    </tr>\n",
       "  </thead>\n",
       "  <tbody>\n",
       "    <tr>\n",
       "      <th>0</th>\n",
       "      <td>0</td>\n",
       "      <td>concentration5</td>\n",
       "      <td>7</td>\n",
       "    </tr>\n",
       "    <tr>\n",
       "      <th>1</th>\n",
       "      <td>1</td>\n",
       "      <td>concentration5</td>\n",
       "      <td>8</td>\n",
       "    </tr>\n",
       "    <tr>\n",
       "      <th>2</th>\n",
       "      <td>2</td>\n",
       "      <td>concentration5</td>\n",
       "      <td>15</td>\n",
       "    </tr>\n",
       "    <tr>\n",
       "      <th>3</th>\n",
       "      <td>3</td>\n",
       "      <td>concentration5</td>\n",
       "      <td>11</td>\n",
       "    </tr>\n",
       "    <tr>\n",
       "      <th>4</th>\n",
       "      <td>4</td>\n",
       "      <td>concentration5</td>\n",
       "      <td>9</td>\n",
       "    </tr>\n",
       "    <tr>\n",
       "      <th>5</th>\n",
       "      <td>5</td>\n",
       "      <td>concentration5</td>\n",
       "      <td>10</td>\n",
       "    </tr>\n",
       "    <tr>\n",
       "      <th>6</th>\n",
       "      <td>0</td>\n",
       "      <td>concentration10</td>\n",
       "      <td>12</td>\n",
       "    </tr>\n",
       "    <tr>\n",
       "      <th>7</th>\n",
       "      <td>1</td>\n",
       "      <td>concentration10</td>\n",
       "      <td>17</td>\n",
       "    </tr>\n",
       "    <tr>\n",
       "      <th>8</th>\n",
       "      <td>2</td>\n",
       "      <td>concentration10</td>\n",
       "      <td>13</td>\n",
       "    </tr>\n",
       "    <tr>\n",
       "      <th>9</th>\n",
       "      <td>3</td>\n",
       "      <td>concentration10</td>\n",
       "      <td>18</td>\n",
       "    </tr>\n",
       "    <tr>\n",
       "      <th>10</th>\n",
       "      <td>4</td>\n",
       "      <td>concentration10</td>\n",
       "      <td>19</td>\n",
       "    </tr>\n",
       "    <tr>\n",
       "      <th>11</th>\n",
       "      <td>5</td>\n",
       "      <td>concentration10</td>\n",
       "      <td>15</td>\n",
       "    </tr>\n",
       "    <tr>\n",
       "      <th>12</th>\n",
       "      <td>0</td>\n",
       "      <td>concentration15</td>\n",
       "      <td>14</td>\n",
       "    </tr>\n",
       "    <tr>\n",
       "      <th>13</th>\n",
       "      <td>1</td>\n",
       "      <td>concentration15</td>\n",
       "      <td>18</td>\n",
       "    </tr>\n",
       "    <tr>\n",
       "      <th>14</th>\n",
       "      <td>2</td>\n",
       "      <td>concentration15</td>\n",
       "      <td>19</td>\n",
       "    </tr>\n",
       "    <tr>\n",
       "      <th>15</th>\n",
       "      <td>3</td>\n",
       "      <td>concentration15</td>\n",
       "      <td>17</td>\n",
       "    </tr>\n",
       "    <tr>\n",
       "      <th>16</th>\n",
       "      <td>4</td>\n",
       "      <td>concentration15</td>\n",
       "      <td>16</td>\n",
       "    </tr>\n",
       "    <tr>\n",
       "      <th>17</th>\n",
       "      <td>5</td>\n",
       "      <td>concentration15</td>\n",
       "      <td>18</td>\n",
       "    </tr>\n",
       "    <tr>\n",
       "      <th>18</th>\n",
       "      <td>0</td>\n",
       "      <td>concentration20</td>\n",
       "      <td>19</td>\n",
       "    </tr>\n",
       "    <tr>\n",
       "      <th>19</th>\n",
       "      <td>1</td>\n",
       "      <td>concentration20</td>\n",
       "      <td>25</td>\n",
       "    </tr>\n",
       "    <tr>\n",
       "      <th>20</th>\n",
       "      <td>2</td>\n",
       "      <td>concentration20</td>\n",
       "      <td>22</td>\n",
       "    </tr>\n",
       "    <tr>\n",
       "      <th>21</th>\n",
       "      <td>3</td>\n",
       "      <td>concentration20</td>\n",
       "      <td>23</td>\n",
       "    </tr>\n",
       "    <tr>\n",
       "      <th>22</th>\n",
       "      <td>4</td>\n",
       "      <td>concentration20</td>\n",
       "      <td>18</td>\n",
       "    </tr>\n",
       "    <tr>\n",
       "      <th>23</th>\n",
       "      <td>5</td>\n",
       "      <td>concentration20</td>\n",
       "      <td>20</td>\n",
       "    </tr>\n",
       "  </tbody>\n",
       "</table>\n",
       "</div>"
      ],
      "text/plain": [
       "    index        Treatment  value\n",
       "0       0   concentration5      7\n",
       "1       1   concentration5      8\n",
       "2       2   concentration5     15\n",
       "3       3   concentration5     11\n",
       "4       4   concentration5      9\n",
       "5       5   concentration5     10\n",
       "6       0  concentration10     12\n",
       "7       1  concentration10     17\n",
       "8       2  concentration10     13\n",
       "9       3  concentration10     18\n",
       "10      4  concentration10     19\n",
       "11      5  concentration10     15\n",
       "12      0  concentration15     14\n",
       "13      1  concentration15     18\n",
       "14      2  concentration15     19\n",
       "15      3  concentration15     17\n",
       "16      4  concentration15     16\n",
       "17      5  concentration15     18\n",
       "18      0  concentration20     19\n",
       "19      1  concentration20     25\n",
       "20      2  concentration20     22\n",
       "21      3  concentration20     23\n",
       "22      4  concentration20     18\n",
       "23      5  concentration20     20"
      ]
     },
     "execution_count": 88,
     "metadata": {},
     "output_type": "execute_result"
    }
   ],
   "source": [
    "data = pd.melt(df.reset_index(), id_vars=['index'],value_vars=df.columns,var_name='Treatment', value_name=\"value\")\n",
    "data"
   ]
  },
  {
   "cell_type": "code",
   "execution_count": 91,
   "metadata": {},
   "outputs": [
    {
     "data": {
      "text/html": [
       "<table class=\"simpletable\">\n",
       "<caption>OLS Regression Results</caption>\n",
       "<tr>\n",
       "  <th>Dep. Variable:</th>          <td>value</td>      <th>  R-squared:         </th> <td>   0.746</td>\n",
       "</tr>\n",
       "<tr>\n",
       "  <th>Model:</th>                   <td>OLS</td>       <th>  Adj. R-squared:    </th> <td>   0.708</td>\n",
       "</tr>\n",
       "<tr>\n",
       "  <th>Method:</th>             <td>Least Squares</td>  <th>  F-statistic:       </th> <td>   19.61</td>\n",
       "</tr>\n",
       "<tr>\n",
       "  <th>Date:</th>             <td>Wed, 11 Mar 2020</td> <th>  Prob (F-statistic):</th> <td>3.59e-06</td>\n",
       "</tr>\n",
       "<tr>\n",
       "  <th>Time:</th>                 <td>17:39:26</td>     <th>  Log-Likelihood:    </th> <td> -54.344</td>\n",
       "</tr>\n",
       "<tr>\n",
       "  <th>No. Observations:</th>      <td>    24</td>      <th>  AIC:               </th> <td>   116.7</td>\n",
       "</tr>\n",
       "<tr>\n",
       "  <th>Df Residuals:</th>          <td>    20</td>      <th>  BIC:               </th> <td>   121.4</td>\n",
       "</tr>\n",
       "<tr>\n",
       "  <th>Df Model:</th>              <td>     3</td>      <th>                     </th>     <td> </td>   \n",
       "</tr>\n",
       "<tr>\n",
       "  <th>Covariance Type:</th>      <td>nonrobust</td>    <th>                     </th>     <td> </td>   \n",
       "</tr>\n",
       "</table>\n",
       "<table class=\"simpletable\">\n",
       "<tr>\n",
       "                 <td></td>                    <th>coef</th>     <th>std err</th>      <th>t</th>      <th>P>|t|</th>  <th>[0.025</th>    <th>0.975]</th>  \n",
       "</tr>\n",
       "<tr>\n",
       "  <th>Intercept</th>                       <td>   15.6667</td> <td>    1.041</td> <td>   15.042</td> <td> 0.000</td> <td>   13.494</td> <td>   17.839</td>\n",
       "</tr>\n",
       "<tr>\n",
       "  <th>C(Treatment)[T.concentration15]</th> <td>    1.3333</td> <td>    1.473</td> <td>    0.905</td> <td> 0.376</td> <td>   -1.739</td> <td>    4.406</td>\n",
       "</tr>\n",
       "<tr>\n",
       "  <th>C(Treatment)[T.concentration20]</th> <td>    5.5000</td> <td>    1.473</td> <td>    3.734</td> <td> 0.001</td> <td>    2.428</td> <td>    8.572</td>\n",
       "</tr>\n",
       "<tr>\n",
       "  <th>C(Treatment)[T.concentration5]</th>  <td>   -5.6667</td> <td>    1.473</td> <td>   -3.847</td> <td> 0.001</td> <td>   -8.739</td> <td>   -2.594</td>\n",
       "</tr>\n",
       "</table>\n",
       "<table class=\"simpletable\">\n",
       "<tr>\n",
       "  <th>Omnibus:</th>       <td> 0.929</td> <th>  Durbin-Watson:     </th> <td>   2.181</td>\n",
       "</tr>\n",
       "<tr>\n",
       "  <th>Prob(Omnibus):</th> <td> 0.628</td> <th>  Jarque-Bera (JB):  </th> <td>   0.861</td>\n",
       "</tr>\n",
       "<tr>\n",
       "  <th>Skew:</th>          <td> 0.248</td> <th>  Prob(JB):          </th> <td>   0.650</td>\n",
       "</tr>\n",
       "<tr>\n",
       "  <th>Kurtosis:</th>      <td> 2.215</td> <th>  Cond. No.          </th> <td>    4.79</td>\n",
       "</tr>\n",
       "</table><br/><br/>Warnings:<br/>[1] Standard Errors assume that the covariance matrix of the errors is correctly specified."
      ],
      "text/plain": [
       "<class 'statsmodels.iolib.summary.Summary'>\n",
       "\"\"\"\n",
       "                            OLS Regression Results                            \n",
       "==============================================================================\n",
       "Dep. Variable:                  value   R-squared:                       0.746\n",
       "Model:                            OLS   Adj. R-squared:                  0.708\n",
       "Method:                 Least Squares   F-statistic:                     19.61\n",
       "Date:                Wed, 11 Mar 2020   Prob (F-statistic):           3.59e-06\n",
       "Time:                        17:39:26   Log-Likelihood:                -54.344\n",
       "No. Observations:                  24   AIC:                             116.7\n",
       "Df Residuals:                      20   BIC:                             121.4\n",
       "Df Model:                           3                                         \n",
       "Covariance Type:            nonrobust                                         \n",
       "===================================================================================================\n",
       "                                      coef    std err          t      P>|t|      [0.025      0.975]\n",
       "---------------------------------------------------------------------------------------------------\n",
       "Intercept                          15.6667      1.041     15.042      0.000      13.494      17.839\n",
       "C(Treatment)[T.concentration15]     1.3333      1.473      0.905      0.376      -1.739       4.406\n",
       "C(Treatment)[T.concentration20]     5.5000      1.473      3.734      0.001       2.428       8.572\n",
       "C(Treatment)[T.concentration5]     -5.6667      1.473     -3.847      0.001      -8.739      -2.594\n",
       "==============================================================================\n",
       "Omnibus:                        0.929   Durbin-Watson:                   2.181\n",
       "Prob(Omnibus):                  0.628   Jarque-Bera (JB):                0.861\n",
       "Skew:                           0.248   Prob(JB):                        0.650\n",
       "Kurtosis:                       2.215   Cond. No.                         4.79\n",
       "==============================================================================\n",
       "\n",
       "Warnings:\n",
       "[1] Standard Errors assume that the covariance matrix of the errors is correctly specified.\n",
       "\"\"\""
      ]
     },
     "execution_count": 91,
     "metadata": {},
     "output_type": "execute_result"
    }
   ],
   "source": [
    "model = ols(\"value~C(Treatment)\",data=data).fit()\n",
    "model.summary()"
   ]
  },
  {
   "cell_type": "code",
   "execution_count": 92,
   "metadata": {},
   "outputs": [
    {
     "data": {
      "text/html": [
       "<div>\n",
       "<style scoped>\n",
       "    .dataframe tbody tr th:only-of-type {\n",
       "        vertical-align: middle;\n",
       "    }\n",
       "\n",
       "    .dataframe tbody tr th {\n",
       "        vertical-align: top;\n",
       "    }\n",
       "\n",
       "    .dataframe thead th {\n",
       "        text-align: right;\n",
       "    }\n",
       "</style>\n",
       "<table border=\"1\" class=\"dataframe\">\n",
       "  <thead>\n",
       "    <tr style=\"text-align: right;\">\n",
       "      <th></th>\n",
       "      <th>df</th>\n",
       "      <th>sum_sq</th>\n",
       "      <th>mean_sq</th>\n",
       "      <th>F</th>\n",
       "      <th>PR(&gt;F)</th>\n",
       "    </tr>\n",
       "  </thead>\n",
       "  <tbody>\n",
       "    <tr>\n",
       "      <th>C(Treatment)</th>\n",
       "      <td>3.0</td>\n",
       "      <td>382.791667</td>\n",
       "      <td>127.597222</td>\n",
       "      <td>19.605207</td>\n",
       "      <td>0.000004</td>\n",
       "    </tr>\n",
       "    <tr>\n",
       "      <th>Residual</th>\n",
       "      <td>20.0</td>\n",
       "      <td>130.166667</td>\n",
       "      <td>6.508333</td>\n",
       "      <td>NaN</td>\n",
       "      <td>NaN</td>\n",
       "    </tr>\n",
       "  </tbody>\n",
       "</table>\n",
       "</div>"
      ],
      "text/plain": [
       "                df      sum_sq     mean_sq          F    PR(>F)\n",
       "C(Treatment)   3.0  382.791667  127.597222  19.605207  0.000004\n",
       "Residual      20.0  130.166667    6.508333        NaN       NaN"
      ]
     },
     "execution_count": 92,
     "metadata": {},
     "output_type": "execute_result"
    }
   ],
   "source": [
    "anova_table = sm.stats.anova_lm(model, typ=1)\n",
    "anova_table"
   ]
  },
  {
   "cell_type": "code",
   "execution_count": 95,
   "metadata": {},
   "outputs": [
    {
     "data": {
      "text/plain": [
       "6.508333333333337"
      ]
     },
     "execution_count": 95,
     "metadata": {},
     "output_type": "execute_result"
    }
   ],
   "source": [
    "(SST[0]-SSTR[0])/20"
   ]
  },
  {
   "cell_type": "markdown",
   "metadata": {},
   "source": [
    "## The Tukey-Kramer Procedure\n",
    "### Previous problem"
   ]
  },
  {
   "cell_type": "code",
   "execution_count": 102,
   "metadata": {},
   "outputs": [],
   "source": [
    "from statsmodels.stats.multicomp import pairwise_tukeyhsd, MultiComparison\n",
    " \n",
    "mc = MultiComparison(data['value'], data['Treatment'])"
   ]
  },
  {
   "cell_type": "code",
   "execution_count": 103,
   "metadata": {},
   "outputs": [],
   "source": [
    "result=mc.tukeyhsd(0.05)"
   ]
  },
  {
   "cell_type": "code",
   "execution_count": 104,
   "metadata": {},
   "outputs": [
    {
     "data": {
      "text/html": [
       "<table class=\"simpletable\">\n",
       "<caption>Multiple Comparison of Means - Tukey HSD, FWER=0.05</caption>\n",
       "<tr>\n",
       "      <th>group1</th>          <th>group2</th>      <th>meandiff</th>  <th>p-adj</th>   <th>lower</th>   <th>upper</th>  <th>reject</th>\n",
       "</tr>\n",
       "<tr>\n",
       "  <td>concentration10</td> <td>concentration15</td>  <td>1.3333</td>  <td>0.7827</td>  <td>-2.7894</td> <td>5.4561</td>   <td>False</td>\n",
       "</tr>\n",
       "<tr>\n",
       "  <td>concentration10</td> <td>concentration20</td>    <td>5.5</td>   <td>0.0066</td>  <td>1.3773</td>  <td>9.6227</td>   <td>True</td> \n",
       "</tr>\n",
       "<tr>\n",
       "  <td>concentration10</td> <td>concentration5</td>   <td>-5.6667</td> <td>0.0051</td>  <td>-9.7894</td> <td>-1.5439</td>  <td>True</td> \n",
       "</tr>\n",
       "<tr>\n",
       "  <td>concentration15</td> <td>concentration20</td>  <td>4.1667</td>   <td>0.047</td>  <td>0.0439</td>  <td>8.2894</td>   <td>True</td> \n",
       "</tr>\n",
       "<tr>\n",
       "  <td>concentration15</td> <td>concentration5</td>    <td>-7.0</td>    <td>0.001</td> <td>-11.1227</td> <td>-2.8773</td>  <td>True</td> \n",
       "</tr>\n",
       "<tr>\n",
       "  <td>concentration20</td> <td>concentration5</td>  <td>-11.1667</td>  <td>0.001</td> <td>-15.2894</td> <td>-7.0439</td>  <td>True</td> \n",
       "</tr>\n",
       "</table>"
      ],
      "text/plain": [
       "<class 'statsmodels.iolib.table.SimpleTable'>"
      ]
     },
     "execution_count": 104,
     "metadata": {},
     "output_type": "execute_result"
    }
   ],
   "source": [
    "result.summary()"
   ]
  },
  {
   "cell_type": "markdown",
   "metadata": {},
   "source": [
    "## Problem 2"
   ]
  },
  {
   "cell_type": "markdown",
   "metadata": {},
   "source": [
    "- Following table shows observed tensile\n",
    "strength (lb/in square) of different clothes\n",
    "having different weight percentage of cotton.\n",
    "- Check whether having different weight\n",
    "percentage of cotton, plays any role in tensile\n",
    "strength (lb/in square) of clothes."
   ]
  },
  {
   "cell_type": "markdown",
   "metadata": {},
   "source": [
    "<style type=\"text/css\">\n",
    ".tg  {border-collapse:collapse;border-spacing:0;}\n",
    ".tg td{font-family:Arial, sans-serif;font-size:14px;padding:10px 5px;border-style:solid;border-width:1px;overflow:hidden;word-break:normal;border-color:black;}\n",
    ".tg th{font-family:Arial, sans-serif;font-size:14px;font-weight:normal;padding:10px 5px;border-style:solid;border-width:1px;overflow:hidden;word-break:normal;border-color:black;}\n",
    ".tg .tg-4f5z{border-color:#013300;text-align:center;vertical-align:top}\n",
    ".tg .tg-l8kr{border-color:#013300;text-align:left;vertical-align:top}\n",
    ".tg .tg-0pky{border-color:inherit;text-align:left;vertical-align:top}\n",
    "</style>\n",
    "<table class=\"tg\">\n",
    "  <tr>\n",
    "    <th class=\"tg-4f5z\" rowspan=\"2\">Hardwood<br>Concentration (%)</th>\n",
    "    <th class=\"tg-4f5z\" colspan=\"5\">Observations</th>\n",
    "    <th class=\"tg-4f5z\" rowspan=\"2\">Total</th>\n",
    "    <th class=\"tg-4f5z\" rowspan=\"2\">Avg<br></th>\n",
    "  </tr>\n",
    "  <tr>\n",
    "    <td class=\"tg-l8kr\">1</td>\n",
    "    <td class=\"tg-l8kr\">2</td>\n",
    "    <td class=\"tg-l8kr\">3</td>\n",
    "    <td class=\"tg-l8kr\">4</td>\n",
    "    <td class=\"tg-l8kr\">5</td>\n",
    "  </tr>\n",
    "  <tr>\n",
    "    <td class=\"tg-l8kr\">15</td>\n",
    "    <td class=\"tg-l8kr\">7</td>\n",
    "    <td class=\"tg-l8kr\">7</td>\n",
    "    <td class=\"tg-l8kr\">15</td>\n",
    "    <td class=\"tg-l8kr\">11</td>\n",
    "    <td class=\"tg-l8kr\">9</td>\n",
    "    <td class=\"tg-l8kr\">49</td>\n",
    "    <td class=\"tg-l8kr\">9.8</td>\n",
    "  </tr>\n",
    "  <tr>\n",
    "    <td class=\"tg-l8kr\">20</td>\n",
    "    <td class=\"tg-l8kr\">12</td>\n",
    "    <td class=\"tg-l8kr\">17</td>\n",
    "    <td class=\"tg-l8kr\">12</td>\n",
    "    <td class=\"tg-l8kr\">18</td>\n",
    "    <td class=\"tg-l8kr\">18</td>\n",
    "    <td class=\"tg-l8kr\">77</td>\n",
    "    <td class=\"tg-l8kr\">15.4</td>\n",
    "  </tr>\n",
    "  <tr>\n",
    "    <td class=\"tg-l8kr\">25</td>\n",
    "    <td class=\"tg-l8kr\">14</td>\n",
    "    <td class=\"tg-l8kr\">18</td>\n",
    "    <td class=\"tg-l8kr\">18</td>\n",
    "    <td class=\"tg-l8kr\">19</td>\n",
    "    <td class=\"tg-l8kr\">19</td>\n",
    "    <td class=\"tg-l8kr\">88</td>\n",
    "    <td class=\"tg-l8kr\">17.6</td>\n",
    "  </tr>\n",
    "  <tr>\n",
    "    <td class=\"tg-l8kr\">30</td>\n",
    "    <td class=\"tg-l8kr\">19</td>\n",
    "    <td class=\"tg-l8kr\">25</td>\n",
    "    <td class=\"tg-l8kr\">22</td>\n",
    "    <td class=\"tg-l8kr\">19</td>\n",
    "    <td class=\"tg-l8kr\">23</td>\n",
    "    <td class=\"tg-l8kr\">108</td>\n",
    "    <td class=\"tg-l8kr\">21.6</td>\n",
    "  </tr>\n",
    "  <tr>\n",
    "    <td class=\"tg-0pky\">35</td>\n",
    "    <td class=\"tg-0pky\">7</td>\n",
    "    <td class=\"tg-0pky\">10</td>\n",
    "    <td class=\"tg-0pky\">11</td>\n",
    "    <td class=\"tg-0pky\">15</td>\n",
    "    <td class=\"tg-0pky\">11</td>\n",
    "    <td class=\"tg-0pky\">54</td>\n",
    "    <td class=\"tg-0pky\">10.8</td>\n",
    "  </tr>\n",
    "  <tr>\n",
    "    <td class=\"tg-l8kr\"></td>\n",
    "    <td class=\"tg-l8kr\"></td>\n",
    "    <td class=\"tg-l8kr\"></td>\n",
    "    <td class=\"tg-l8kr\"></td>\n",
    "    <td class=\"tg-l8kr\"></td>\n",
    "    <td class=\"tg-l8kr\"></td>\n",
    "    <td class=\"tg-l8kr\">Grand total = 376</td>\n",
    "    <td class=\"tg-l8kr\">Grand mean = 15.004</td>\n",
    "  </tr>\n",
    "</table>"
   ]
  },
  {
   "cell_type": "markdown",
   "metadata": {},
   "source": [
    "- SSA = 5 (9.8 – 15.04) 2 + 5 (15.4 – 15.04) 2 + 5\n",
    "(17.6 – 15.04) 2 +5( 21.6-15.04) 2 + 5(10.8-\n",
    "15.04) 2 = 475.76\n",
    "- SST = 636.96\n",
    "- SSE = 636.96 - 475.76=161.20\n",
    "\n",
    "- When alpha =.05, F (0.05,4,20) =2.87\n",
    "- Reject Ho"
   ]
  },
  {
   "cell_type": "code",
   "execution_count": 111,
   "metadata": {},
   "outputs": [
    {
     "data": {
      "text/plain": [
       "2.8660814020156584"
      ]
     },
     "execution_count": 111,
     "metadata": {},
     "output_type": "execute_result"
    }
   ],
   "source": [
    "stats.f.ppf(1-0.05, 4,20)"
   ]
  },
  {
   "cell_type": "code",
   "execution_count": 112,
   "metadata": {},
   "outputs": [
    {
     "data": {
      "text/html": [
       "<div>\n",
       "<style scoped>\n",
       "    .dataframe tbody tr th:only-of-type {\n",
       "        vertical-align: middle;\n",
       "    }\n",
       "\n",
       "    .dataframe tbody tr th {\n",
       "        vertical-align: top;\n",
       "    }\n",
       "\n",
       "    .dataframe thead th {\n",
       "        text-align: right;\n",
       "    }\n",
       "</style>\n",
       "<table border=\"1\" class=\"dataframe\">\n",
       "  <thead>\n",
       "    <tr style=\"text-align: right;\">\n",
       "      <th></th>\n",
       "      <th>cotwt.15</th>\n",
       "      <th>cotwt.20</th>\n",
       "      <th>cotwt.25</th>\n",
       "      <th>cotwt.30</th>\n",
       "      <th>cotwt.35</th>\n",
       "    </tr>\n",
       "  </thead>\n",
       "  <tbody>\n",
       "    <tr>\n",
       "      <th>0</th>\n",
       "      <td>7</td>\n",
       "      <td>12</td>\n",
       "      <td>14</td>\n",
       "      <td>19</td>\n",
       "      <td>7</td>\n",
       "    </tr>\n",
       "    <tr>\n",
       "      <th>1</th>\n",
       "      <td>7</td>\n",
       "      <td>17</td>\n",
       "      <td>18</td>\n",
       "      <td>25</td>\n",
       "      <td>10</td>\n",
       "    </tr>\n",
       "    <tr>\n",
       "      <th>2</th>\n",
       "      <td>15</td>\n",
       "      <td>12</td>\n",
       "      <td>18</td>\n",
       "      <td>22</td>\n",
       "      <td>11</td>\n",
       "    </tr>\n",
       "    <tr>\n",
       "      <th>3</th>\n",
       "      <td>11</td>\n",
       "      <td>18</td>\n",
       "      <td>19</td>\n",
       "      <td>19</td>\n",
       "      <td>15</td>\n",
       "    </tr>\n",
       "    <tr>\n",
       "      <th>4</th>\n",
       "      <td>9</td>\n",
       "      <td>18</td>\n",
       "      <td>19</td>\n",
       "      <td>23</td>\n",
       "      <td>11</td>\n",
       "    </tr>\n",
       "  </tbody>\n",
       "</table>\n",
       "</div>"
      ],
      "text/plain": [
       "   cotwt.15  cotwt.20  cotwt.25  cotwt.30  cotwt.35\n",
       "0         7        12        14        19         7\n",
       "1         7        17        18        25        10\n",
       "2        15        12        18        22        11\n",
       "3        11        18        19        19        15\n",
       "4         9        18        19        23        11"
      ]
     },
     "execution_count": 112,
     "metadata": {},
     "output_type": "execute_result"
    }
   ],
   "source": [
    "df = pd.read_excel(\"/media/sandeep/sandeep files1/github/data analytics/data files/cotton weight.xlsx\")\n",
    "\n",
    "df"
   ]
  },
  {
   "cell_type": "code",
   "execution_count": 113,
   "metadata": {},
   "outputs": [],
   "source": [
    "data = pd.melt(df.reset_index(), id_vars=['index'], value_vars=df.columns, var_name='treatments', value_name='value')"
   ]
  },
  {
   "cell_type": "code",
   "execution_count": 114,
   "metadata": {},
   "outputs": [
    {
     "data": {
      "text/html": [
       "<div>\n",
       "<style scoped>\n",
       "    .dataframe tbody tr th:only-of-type {\n",
       "        vertical-align: middle;\n",
       "    }\n",
       "\n",
       "    .dataframe tbody tr th {\n",
       "        vertical-align: top;\n",
       "    }\n",
       "\n",
       "    .dataframe thead th {\n",
       "        text-align: right;\n",
       "    }\n",
       "</style>\n",
       "<table border=\"1\" class=\"dataframe\">\n",
       "  <thead>\n",
       "    <tr style=\"text-align: right;\">\n",
       "      <th></th>\n",
       "      <th>index</th>\n",
       "      <th>treatments</th>\n",
       "      <th>value</th>\n",
       "    </tr>\n",
       "  </thead>\n",
       "  <tbody>\n",
       "    <tr>\n",
       "      <th>0</th>\n",
       "      <td>0</td>\n",
       "      <td>cotwt.15</td>\n",
       "      <td>7</td>\n",
       "    </tr>\n",
       "    <tr>\n",
       "      <th>1</th>\n",
       "      <td>1</td>\n",
       "      <td>cotwt.15</td>\n",
       "      <td>7</td>\n",
       "    </tr>\n",
       "    <tr>\n",
       "      <th>2</th>\n",
       "      <td>2</td>\n",
       "      <td>cotwt.15</td>\n",
       "      <td>15</td>\n",
       "    </tr>\n",
       "    <tr>\n",
       "      <th>3</th>\n",
       "      <td>3</td>\n",
       "      <td>cotwt.15</td>\n",
       "      <td>11</td>\n",
       "    </tr>\n",
       "    <tr>\n",
       "      <th>4</th>\n",
       "      <td>4</td>\n",
       "      <td>cotwt.15</td>\n",
       "      <td>9</td>\n",
       "    </tr>\n",
       "    <tr>\n",
       "      <th>5</th>\n",
       "      <td>0</td>\n",
       "      <td>cotwt.20</td>\n",
       "      <td>12</td>\n",
       "    </tr>\n",
       "    <tr>\n",
       "      <th>6</th>\n",
       "      <td>1</td>\n",
       "      <td>cotwt.20</td>\n",
       "      <td>17</td>\n",
       "    </tr>\n",
       "    <tr>\n",
       "      <th>7</th>\n",
       "      <td>2</td>\n",
       "      <td>cotwt.20</td>\n",
       "      <td>12</td>\n",
       "    </tr>\n",
       "    <tr>\n",
       "      <th>8</th>\n",
       "      <td>3</td>\n",
       "      <td>cotwt.20</td>\n",
       "      <td>18</td>\n",
       "    </tr>\n",
       "    <tr>\n",
       "      <th>9</th>\n",
       "      <td>4</td>\n",
       "      <td>cotwt.20</td>\n",
       "      <td>18</td>\n",
       "    </tr>\n",
       "    <tr>\n",
       "      <th>10</th>\n",
       "      <td>0</td>\n",
       "      <td>cotwt.25</td>\n",
       "      <td>14</td>\n",
       "    </tr>\n",
       "    <tr>\n",
       "      <th>11</th>\n",
       "      <td>1</td>\n",
       "      <td>cotwt.25</td>\n",
       "      <td>18</td>\n",
       "    </tr>\n",
       "    <tr>\n",
       "      <th>12</th>\n",
       "      <td>2</td>\n",
       "      <td>cotwt.25</td>\n",
       "      <td>18</td>\n",
       "    </tr>\n",
       "    <tr>\n",
       "      <th>13</th>\n",
       "      <td>3</td>\n",
       "      <td>cotwt.25</td>\n",
       "      <td>19</td>\n",
       "    </tr>\n",
       "    <tr>\n",
       "      <th>14</th>\n",
       "      <td>4</td>\n",
       "      <td>cotwt.25</td>\n",
       "      <td>19</td>\n",
       "    </tr>\n",
       "    <tr>\n",
       "      <th>15</th>\n",
       "      <td>0</td>\n",
       "      <td>cotwt.30</td>\n",
       "      <td>19</td>\n",
       "    </tr>\n",
       "    <tr>\n",
       "      <th>16</th>\n",
       "      <td>1</td>\n",
       "      <td>cotwt.30</td>\n",
       "      <td>25</td>\n",
       "    </tr>\n",
       "    <tr>\n",
       "      <th>17</th>\n",
       "      <td>2</td>\n",
       "      <td>cotwt.30</td>\n",
       "      <td>22</td>\n",
       "    </tr>\n",
       "    <tr>\n",
       "      <th>18</th>\n",
       "      <td>3</td>\n",
       "      <td>cotwt.30</td>\n",
       "      <td>19</td>\n",
       "    </tr>\n",
       "    <tr>\n",
       "      <th>19</th>\n",
       "      <td>4</td>\n",
       "      <td>cotwt.30</td>\n",
       "      <td>23</td>\n",
       "    </tr>\n",
       "    <tr>\n",
       "      <th>20</th>\n",
       "      <td>0</td>\n",
       "      <td>cotwt.35</td>\n",
       "      <td>7</td>\n",
       "    </tr>\n",
       "    <tr>\n",
       "      <th>21</th>\n",
       "      <td>1</td>\n",
       "      <td>cotwt.35</td>\n",
       "      <td>10</td>\n",
       "    </tr>\n",
       "    <tr>\n",
       "      <th>22</th>\n",
       "      <td>2</td>\n",
       "      <td>cotwt.35</td>\n",
       "      <td>11</td>\n",
       "    </tr>\n",
       "    <tr>\n",
       "      <th>23</th>\n",
       "      <td>3</td>\n",
       "      <td>cotwt.35</td>\n",
       "      <td>15</td>\n",
       "    </tr>\n",
       "    <tr>\n",
       "      <th>24</th>\n",
       "      <td>4</td>\n",
       "      <td>cotwt.35</td>\n",
       "      <td>11</td>\n",
       "    </tr>\n",
       "  </tbody>\n",
       "</table>\n",
       "</div>"
      ],
      "text/plain": [
       "    index treatments  value\n",
       "0       0   cotwt.15      7\n",
       "1       1   cotwt.15      7\n",
       "2       2   cotwt.15     15\n",
       "3       3   cotwt.15     11\n",
       "4       4   cotwt.15      9\n",
       "5       0   cotwt.20     12\n",
       "6       1   cotwt.20     17\n",
       "7       2   cotwt.20     12\n",
       "8       3   cotwt.20     18\n",
       "9       4   cotwt.20     18\n",
       "10      0   cotwt.25     14\n",
       "11      1   cotwt.25     18\n",
       "12      2   cotwt.25     18\n",
       "13      3   cotwt.25     19\n",
       "14      4   cotwt.25     19\n",
       "15      0   cotwt.30     19\n",
       "16      1   cotwt.30     25\n",
       "17      2   cotwt.30     22\n",
       "18      3   cotwt.30     19\n",
       "19      4   cotwt.30     23\n",
       "20      0   cotwt.35      7\n",
       "21      1   cotwt.35     10\n",
       "22      2   cotwt.35     11\n",
       "23      3   cotwt.35     15\n",
       "24      4   cotwt.35     11"
      ]
     },
     "execution_count": 114,
     "metadata": {},
     "output_type": "execute_result"
    }
   ],
   "source": [
    "data"
   ]
  },
  {
   "cell_type": "code",
   "execution_count": 115,
   "metadata": {},
   "outputs": [],
   "source": [
    "mc = MultiComparison(data['value'], data['treatments'])\n"
   ]
  },
  {
   "cell_type": "code",
   "execution_count": 116,
   "metadata": {},
   "outputs": [
    {
     "data": {
      "text/html": [
       "<table class=\"simpletable\">\n",
       "<caption>Multiple Comparison of Means - Tukey HSD, FWER=0.05</caption>\n",
       "<tr>\n",
       "   <th>group1</th>   <th>group2</th>  <th>meandiff</th>  <th>p-adj</th>   <th>lower</th>   <th>upper</th>  <th>reject</th>\n",
       "</tr>\n",
       "<tr>\n",
       "  <td>cotwt.15</td> <td>cotwt.20</td>    <td>5.6</td>   <td>0.0385</td>  <td>0.2266</td>  <td>10.9734</td>  <td>True</td> \n",
       "</tr>\n",
       "<tr>\n",
       "  <td>cotwt.15</td> <td>cotwt.25</td>    <td>7.8</td>   <td>0.0026</td>  <td>2.4266</td>  <td>13.1734</td>  <td>True</td> \n",
       "</tr>\n",
       "<tr>\n",
       "  <td>cotwt.15</td> <td>cotwt.30</td>   <td>11.8</td>    <td>0.001</td>  <td>6.4266</td>  <td>17.1734</td>  <td>True</td> \n",
       "</tr>\n",
       "<tr>\n",
       "  <td>cotwt.15</td> <td>cotwt.35</td>    <td>1.0</td>     <td>0.9</td>   <td>-4.3734</td> <td>6.3734</td>   <td>False</td>\n",
       "</tr>\n",
       "<tr>\n",
       "  <td>cotwt.20</td> <td>cotwt.25</td>    <td>2.2</td>   <td>0.7148</td>  <td>-3.1734</td> <td>7.5734</td>   <td>False</td>\n",
       "</tr>\n",
       "<tr>\n",
       "  <td>cotwt.20</td> <td>cotwt.30</td>    <td>6.2</td>   <td>0.0189</td>  <td>0.8266</td>  <td>11.5734</td>  <td>True</td> \n",
       "</tr>\n",
       "<tr>\n",
       "  <td>cotwt.20</td> <td>cotwt.35</td>   <td>-4.6</td>   <td>0.1165</td>  <td>-9.9734</td> <td>0.7734</td>   <td>False</td>\n",
       "</tr>\n",
       "<tr>\n",
       "  <td>cotwt.25</td> <td>cotwt.30</td>    <td>4.0</td>   <td>0.2102</td>  <td>-1.3734</td> <td>9.3734</td>   <td>False</td>\n",
       "</tr>\n",
       "<tr>\n",
       "  <td>cotwt.25</td> <td>cotwt.35</td>   <td>-6.8</td>   <td>0.0091</td> <td>-12.1734</td> <td>-1.4266</td>  <td>True</td> \n",
       "</tr>\n",
       "<tr>\n",
       "  <td>cotwt.30</td> <td>cotwt.35</td>   <td>-10.8</td>   <td>0.001</td> <td>-16.1734</td> <td>-5.4266</td>  <td>True</td> \n",
       "</tr>\n",
       "</table>"
      ],
      "text/plain": [
       "<class 'statsmodels.iolib.table.SimpleTable'>"
      ]
     },
     "execution_count": 116,
     "metadata": {},
     "output_type": "execute_result"
    }
   ],
   "source": [
    "result = mc.tukeyhsd(0.05)\n",
    "result.summary()"
   ]
  },
  {
   "cell_type": "code",
   "execution_count": null,
   "metadata": {},
   "outputs": [],
   "source": []
  },
  {
   "cell_type": "code",
   "execution_count": null,
   "metadata": {},
   "outputs": [],
   "source": []
  },
  {
   "cell_type": "code",
   "execution_count": null,
   "metadata": {},
   "outputs": [],
   "source": []
  },
  {
   "cell_type": "code",
   "execution_count": null,
   "metadata": {},
   "outputs": [],
   "source": []
  },
  {
   "cell_type": "code",
   "execution_count": null,
   "metadata": {},
   "outputs": [],
   "source": []
  },
  {
   "cell_type": "code",
   "execution_count": null,
   "metadata": {},
   "outputs": [],
   "source": []
  },
  {
   "cell_type": "code",
   "execution_count": null,
   "metadata": {},
   "outputs": [],
   "source": []
  },
  {
   "cell_type": "code",
   "execution_count": null,
   "metadata": {},
   "outputs": [],
   "source": []
  },
  {
   "cell_type": "code",
   "execution_count": null,
   "metadata": {},
   "outputs": [],
   "source": []
  },
  {
   "cell_type": "code",
   "execution_count": null,
   "metadata": {},
   "outputs": [],
   "source": []
  },
  {
   "cell_type": "code",
   "execution_count": null,
   "metadata": {},
   "outputs": [],
   "source": []
  },
  {
   "cell_type": "code",
   "execution_count": null,
   "metadata": {},
   "outputs": [],
   "source": []
  },
  {
   "cell_type": "code",
   "execution_count": null,
   "metadata": {},
   "outputs": [],
   "source": []
  },
  {
   "cell_type": "code",
   "execution_count": null,
   "metadata": {},
   "outputs": [],
   "source": []
  },
  {
   "cell_type": "code",
   "execution_count": 134,
   "metadata": {},
   "outputs": [
    {
     "name": "stdout",
     "output_type": "stream",
     "text": [
      "   sch1  sch2  sch3\n",
      "0    75    76    78\n",
      "1    74    74    74\n",
      "2    70    71    75\n",
      "3    73    72    77\n",
      "4    76    73    76\n",
      "5    73    73    73\n",
      "                            OLS Regression Results                            \n",
      "==============================================================================\n",
      "Dep. Variable:                  value   R-squared:                       0.262\n",
      "Model:                            OLS   Adj. R-squared:                  0.164\n",
      "Method:                 Least Squares   F-statistic:                     2.663\n",
      "Date:                Thu, 12 Mar 2020   Prob (F-statistic):              0.102\n",
      "Time:                        12:22:47   Log-Likelihood:                -35.401\n",
      "No. Observations:                  18   AIC:                             76.80\n",
      "Df Residuals:                      15   BIC:                             79.47\n",
      "Df Model:                           2                                         \n",
      "Covariance Type:            nonrobust                                         \n",
      "========================================================================================\n",
      "                           coef    std err          t      P>|t|      [0.025      0.975]\n",
      "----------------------------------------------------------------------------------------\n",
      "Intercept               73.5000      0.773     95.035      0.000      71.852      75.148\n",
      "C(treatment)[T.sch2]    -0.3333      1.094     -0.305      0.765      -2.665       1.998\n",
      "C(treatment)[T.sch3]     2.0000      1.094      1.829      0.087      -0.331       4.331\n",
      "==============================================================================\n",
      "Omnibus:                        0.223   Durbin-Watson:                   2.010\n",
      "Prob(Omnibus):                  0.894   Jarque-Bera (JB):                0.413\n",
      "Skew:                          -0.134   Prob(JB):                        0.813\n",
      "Kurtosis:                       2.308   Cond. No.                         3.73\n",
      "==============================================================================\n",
      "\n",
      "Warnings:\n",
      "[1] Standard Errors assume that the covariance matrix of the errors is correctly specified.\n"
     ]
    },
    {
     "data": {
      "text/html": [
       "<div>\n",
       "<style scoped>\n",
       "    .dataframe tbody tr th:only-of-type {\n",
       "        vertical-align: middle;\n",
       "    }\n",
       "\n",
       "    .dataframe tbody tr th {\n",
       "        vertical-align: top;\n",
       "    }\n",
       "\n",
       "    .dataframe thead th {\n",
       "        text-align: right;\n",
       "    }\n",
       "</style>\n",
       "<table border=\"1\" class=\"dataframe\">\n",
       "  <thead>\n",
       "    <tr style=\"text-align: right;\">\n",
       "      <th></th>\n",
       "      <th>df</th>\n",
       "      <th>sum_sq</th>\n",
       "      <th>mean_sq</th>\n",
       "      <th>F</th>\n",
       "      <th>PR(&gt;F)</th>\n",
       "    </tr>\n",
       "  </thead>\n",
       "  <tbody>\n",
       "    <tr>\n",
       "      <th>C(treatment)</th>\n",
       "      <td>2.0</td>\n",
       "      <td>19.111111</td>\n",
       "      <td>9.555556</td>\n",
       "      <td>2.662539</td>\n",
       "      <td>0.102434</td>\n",
       "    </tr>\n",
       "    <tr>\n",
       "      <th>Residual</th>\n",
       "      <td>15.0</td>\n",
       "      <td>53.833333</td>\n",
       "      <td>3.588889</td>\n",
       "      <td>NaN</td>\n",
       "      <td>NaN</td>\n",
       "    </tr>\n",
       "  </tbody>\n",
       "</table>\n",
       "</div>"
      ],
      "text/plain": [
       "                df     sum_sq   mean_sq         F    PR(>F)\n",
       "C(treatment)   2.0  19.111111  9.555556  2.662539  0.102434\n",
       "Residual      15.0  53.833333  3.588889       NaN       NaN"
      ]
     },
     "execution_count": 134,
     "metadata": {},
     "output_type": "execute_result"
    }
   ],
   "source": [
    "\n",
    "\n",
    "df = pd.DataFrame({'sch1':[75,74,70,73,76,73],'sch2':[76,74,71,72,73,73],'sch3':[78,74,75,77,76,73]})\n",
    "\n",
    "print(df)\n",
    "\n",
    "data = pd.melt(df.reset_index(), id_vars=['index'], value_vars=df.columns, var_name='treatment',value_name='value' )\n",
    "\n",
    "model = ols('value~C(treatment)', data=data).fit()\n",
    "print(model.summary())\n",
    "\n",
    "anova_table = sm.stats.anova_lm(model, typ=1)\n",
    "\n",
    "anova_table"
   ]
  },
  {
   "cell_type": "code",
   "execution_count": 130,
   "metadata": {},
   "outputs": [
    {
     "data": {
      "text/plain": [
       "3.0254727242822095"
      ]
     },
     "execution_count": 130,
     "metadata": {},
     "output_type": "execute_result"
    }
   ],
   "source": [
    "stats.f.ppf(0.95,14,9)"
   ]
  },
  {
   "cell_type": "raw",
   "metadata": {},
   "source": []
  },
  {
   "cell_type": "code",
   "execution_count": 136,
   "metadata": {},
   "outputs": [
    {
     "name": "stdout",
     "output_type": "stream",
     "text": [
      "   cant1  sch2  sch3\n",
      "0      4     3     5\n",
      "1      6     2     8\n",
      "2      7     1     2\n",
      "3      2     7     2\n",
      "4      5     6     2\n",
      "                            OLS Regression Results                            \n",
      "==============================================================================\n",
      "Dep. Variable:                  value   R-squared:                       0.045\n",
      "Model:                            OLS   Adj. R-squared:                 -0.114\n",
      "Method:                 Least Squares   F-statistic:                    0.2841\n",
      "Date:                Thu, 12 Mar 2020   Prob (F-statistic):              0.758\n",
      "Time:                        12:24:53   Log-Likelihood:                -32.880\n",
      "No. Observations:                  15   AIC:                             71.76\n",
      "Df Residuals:                      12   BIC:                             73.88\n",
      "Df Model:                           2                                         \n",
      "Covariance Type:            nonrobust                                         \n",
      "========================================================================================\n",
      "                           coef    std err          t      P>|t|      [0.025      0.975]\n",
      "----------------------------------------------------------------------------------------\n",
      "Intercept                4.8000      1.083      4.431      0.001       2.440       7.160\n",
      "C(treatment)[T.sch2]    -1.0000      1.532     -0.653      0.526      -4.338       2.338\n",
      "C(treatment)[T.sch3]    -1.0000      1.532     -0.653      0.526      -4.338       2.338\n",
      "==============================================================================\n",
      "Omnibus:                        1.797   Durbin-Watson:                   1.776\n",
      "Prob(Omnibus):                  0.407   Jarque-Bera (JB):                1.167\n",
      "Skew:                           0.415   Prob(JB):                        0.558\n",
      "Kurtosis:                       1.915   Cond. No.                         3.73\n",
      "==============================================================================\n",
      "\n",
      "Warnings:\n",
      "[1] Standard Errors assume that the covariance matrix of the errors is correctly specified.\n"
     ]
    },
    {
     "data": {
      "text/html": [
       "<div>\n",
       "<style scoped>\n",
       "    .dataframe tbody tr th:only-of-type {\n",
       "        vertical-align: middle;\n",
       "    }\n",
       "\n",
       "    .dataframe tbody tr th {\n",
       "        vertical-align: top;\n",
       "    }\n",
       "\n",
       "    .dataframe thead th {\n",
       "        text-align: right;\n",
       "    }\n",
       "</style>\n",
       "<table border=\"1\" class=\"dataframe\">\n",
       "  <thead>\n",
       "    <tr style=\"text-align: right;\">\n",
       "      <th></th>\n",
       "      <th>df</th>\n",
       "      <th>sum_sq</th>\n",
       "      <th>mean_sq</th>\n",
       "      <th>F</th>\n",
       "      <th>PR(&gt;F)</th>\n",
       "    </tr>\n",
       "  </thead>\n",
       "  <tbody>\n",
       "    <tr>\n",
       "      <th>C(treatment)</th>\n",
       "      <td>2.0</td>\n",
       "      <td>3.333333</td>\n",
       "      <td>1.666667</td>\n",
       "      <td>0.284091</td>\n",
       "      <td>0.757622</td>\n",
       "    </tr>\n",
       "    <tr>\n",
       "      <th>Residual</th>\n",
       "      <td>12.0</td>\n",
       "      <td>70.400000</td>\n",
       "      <td>5.866667</td>\n",
       "      <td>NaN</td>\n",
       "      <td>NaN</td>\n",
       "    </tr>\n",
       "  </tbody>\n",
       "</table>\n",
       "</div>"
      ],
      "text/plain": [
       "                df     sum_sq   mean_sq         F    PR(>F)\n",
       "C(treatment)   2.0   3.333333  1.666667  0.284091  0.757622\n",
       "Residual      12.0  70.400000  5.866667       NaN       NaN"
      ]
     },
     "execution_count": 136,
     "metadata": {},
     "output_type": "execute_result"
    }
   ],
   "source": [
    "df = pd.DataFrame({'cant1':[4, 6, 7, 2, 5],'sch2':[3, 2, 1, 7, 6],'sch3':[5, 8, 2, 2, 2]})\n",
    "\n",
    "print(df)\n",
    "\n",
    "data = pd.melt(df.reset_index(), id_vars=['index'], value_vars=df.columns, var_name='treatment',value_name='value' )\n",
    "\n",
    "model = ols('value~C(treatment)', data=data).fit()\n",
    "print(model.summary())\n",
    "\n",
    "anova_table = sm.stats.anova_lm(model, typ=1)\n",
    "\n",
    "anova_table"
   ]
  },
  {
   "cell_type": "code",
   "execution_count": null,
   "metadata": {},
   "outputs": [],
   "source": []
  }
 ],
 "metadata": {
  "kernelspec": {
   "display_name": "Python 3.7.3 64-bit ('base': conda)",
   "language": "python",
   "name": "python37364bitbasecondafcdd59253f8f4fb6802840175de496e1"
  },
  "language_info": {
   "codemirror_mode": {
    "name": "ipython",
    "version": 3
   },
   "file_extension": ".py",
   "mimetype": "text/x-python",
   "name": "python",
   "nbconvert_exporter": "python",
   "pygments_lexer": "ipython3",
   "version": "3.7.3"
  }
 },
 "nbformat": 4,
 "nbformat_minor": 2
}
