{
 "cells": [
  {
   "cell_type": "code",
   "execution_count": 2,
   "metadata": {},
   "outputs": [],
   "source": [
    "import pandas as pd\n",
    "import numpy as np"
   ]
  },
  {
   "cell_type": "code",
   "execution_count": 3,
   "metadata": {},
   "outputs": [],
   "source": [
    "data = pd.read_excel(\"/media/sandeep/sandeep files1/github/data analytics/data files/IBM-313 Marks.xlsx\")"
   ]
  },
  {
   "cell_type": "markdown",
   "metadata": {},
   "source": [
    "# Mean"
   ]
  },
  {
   "cell_type": "code",
   "execution_count": 4,
   "metadata": {},
   "outputs": [
    {
     "data": {
      "text/plain": [
       "46.90632911392405"
      ]
     },
     "execution_count": 4,
     "metadata": {},
     "output_type": "execute_result"
    }
   ],
   "source": [
    "#x = data[\"Total\"]\n",
    "data[\"Total\"].mean()"
   ]
  },
  {
   "cell_type": "markdown",
   "metadata": {},
   "source": [
    "# Median"
   ]
  },
  {
   "cell_type": "code",
   "execution_count": 5,
   "metadata": {},
   "outputs": [
    {
     "data": {
      "text/plain": [
       "45.0"
      ]
     },
     "execution_count": 5,
     "metadata": {},
     "output_type": "execute_result"
    }
   ],
   "source": [
    "data[\"Total\"].median()"
   ]
  },
  {
   "cell_type": "markdown",
   "metadata": {},
   "source": [
    "# Mode"
   ]
  },
  {
   "cell_type": "code",
   "execution_count": 6,
   "metadata": {},
   "outputs": [
    {
     "data": {
      "text/plain": [
       "0     0.00\n",
       "1    38.00\n",
       "2    39.70\n",
       "3    41.00\n",
       "4    42.70\n",
       "5    43.50\n",
       "6    48.35\n",
       "dtype: float64"
      ]
     },
     "execution_count": 6,
     "metadata": {},
     "output_type": "execute_result"
    }
   ],
   "source": [
    "data[\"Total\"].mode()"
   ]
  },
  {
   "cell_type": "code",
   "execution_count": 7,
   "metadata": {},
   "outputs": [
    {
     "data": {
      "text/plain": [
       "[(48.35, 2),\n",
       " (43.5, 2),\n",
       " (38.0, 2),\n",
       " (42.7, 2),\n",
       " (39.7, 2),\n",
       " (41.0, 2),\n",
       " (0.0, 2),\n",
       " (37.0, 1),\n",
       " (57.05, 1),\n",
       " (42.1, 1),\n",
       " (29.0, 1),\n",
       " (55.0, 1),\n",
       " (31.5, 1),\n",
       " (45.5, 1),\n",
       " (42.55, 1),\n",
       " (51.2, 1),\n",
       " (51.25, 1),\n",
       " (41.5, 1),\n",
       " (63.75, 1),\n",
       " (28.0, 1),\n",
       " (25.7, 1),\n",
       " (26.05, 1),\n",
       " (32.7, 1),\n",
       " (74.1, 1),\n",
       " (61.0, 1),\n",
       " (57.8, 1),\n",
       " (94.5, 1),\n",
       " (92.5, 1),\n",
       " (71.0, 1),\n",
       " (59.05, 1),\n",
       " (63.8, 1),\n",
       " (44.0, 1),\n",
       " (69.65, 1),\n",
       " (53.35, 1),\n",
       " (72.0, 1),\n",
       " (55.35, 1),\n",
       " (52.25, 1),\n",
       " (60.1, 1),\n",
       " (70.0, 1),\n",
       " (59.4, 1),\n",
       " (53.7, 1),\n",
       " (47.5, 1),\n",
       " (55.5, 1),\n",
       " (48.0, 1),\n",
       " (45.0, 1),\n",
       " (48.65, 1),\n",
       " (72.7, 1),\n",
       " (64.45, 1),\n",
       " (69.8, 1),\n",
       " (33.7, 1),\n",
       " (50.1, 1),\n",
       " (45.65, 1),\n",
       " (54.5, 1),\n",
       " (54.9, 1),\n",
       " (35.5, 1),\n",
       " (36.55, 1),\n",
       " (44.3, 1),\n",
       " (42.15, 1),\n",
       " (37.5, 1),\n",
       " (49.0, 1),\n",
       " (35.0, 1),\n",
       " (42.3, 1),\n",
       " (39.85, 1),\n",
       " (33.0, 1),\n",
       " (30.5, 1),\n",
       " (55.4, 1),\n",
       " (20.2, 1),\n",
       " (39.9, 1),\n",
       " (24.0, 1),\n",
       " (42.05, 1),\n",
       " (50.25, 1),\n",
       " (27.8, 1)]"
      ]
     },
     "execution_count": 7,
     "metadata": {},
     "output_type": "execute_result"
    }
   ],
   "source": [
    "from collections import Counter\n",
    "x = Counter(data[\"Total\"])\n",
    "x.most_common()"
   ]
  },
  {
   "cell_type": "markdown",
   "metadata": {},
   "source": [
    "# Percentile\n",
    "    Present only in numpy"
   ]
  },
  {
   "cell_type": "code",
   "execution_count": 8,
   "metadata": {},
   "outputs": [
    {
     "data": {
      "text/plain": [
       "45.0"
      ]
     },
     "execution_count": 8,
     "metadata": {},
     "output_type": "execute_result"
    }
   ],
   "source": [
    "x = data[\"Total\"]\n",
    "np.percentile(x,50)"
   ]
  },
  {
   "cell_type": "code",
   "execution_count": 9,
   "metadata": {},
   "outputs": [
    {
     "data": {
      "text/plain": [
       "45.0"
      ]
     },
     "execution_count": 9,
     "metadata": {},
     "output_type": "execute_result"
    }
   ],
   "source": [
    "sorted(x)[79//2]"
   ]
  },
  {
   "cell_type": "markdown",
   "metadata": {},
   "source": [
    "# Quartile\n"
   ]
  },
  {
   "cell_type": "code",
   "execution_count": 11,
   "metadata": {},
   "outputs": [
    {
     "ename": "NameError",
     "evalue": "name 'a' is not defined",
     "output_type": "error",
     "traceback": [
      "\u001b[0;31m---------------------------------------------------------------------------\u001b[0m",
      "\u001b[0;31mNameError\u001b[0m                                 Traceback (most recent call last)",
      "\u001b[0;32m<ipython-input-11-5e624b9eb813>\u001b[0m in \u001b[0;36m<module>\u001b[0;34m\u001b[0m\n\u001b[1;32m      1\u001b[0m \u001b[0marr\u001b[0m \u001b[0;34m=\u001b[0m \u001b[0;34m[\u001b[0m\u001b[0;36m1\u001b[0m\u001b[0;34m,\u001b[0m\u001b[0;36m2\u001b[0m\u001b[0;34m,\u001b[0m\u001b[0;36m3\u001b[0m\u001b[0;34m,\u001b[0m\u001b[0;36m4\u001b[0m\u001b[0;34m,\u001b[0m\u001b[0;36m5\u001b[0m\u001b[0;34m]\u001b[0m\u001b[0;34m\u001b[0m\u001b[0;34m\u001b[0m\u001b[0m\n\u001b[0;32m----> 2\u001b[0;31m \u001b[0mnp\u001b[0m\u001b[0;34m.\u001b[0m\u001b[0mpercentile\u001b[0m\u001b[0;34m(\u001b[0m\u001b[0ma\u001b[0m\u001b[0;34m,\u001b[0m\u001b[0;36m25\u001b[0m\u001b[0;34m)\u001b[0m\u001b[0;34m\u001b[0m\u001b[0;34m\u001b[0m\u001b[0m\n\u001b[0m",
      "\u001b[0;31mNameError\u001b[0m: name 'a' is not defined"
     ]
    }
   ],
   "source": [
    "arr = [1,2,3,4,5]\n",
    "np.percentile(arr,25)\n"
   ]
  },
  {
   "cell_type": "code",
   "execution_count": null,
   "metadata": {},
   "outputs": [],
   "source": []
  }
 ],
 "metadata": {
  "kernelspec": {
   "display_name": "Python 3.7.3 64-bit ('anaconda3': virtualenv)",
   "language": "python",
   "name": "python37364bitanaconda3virtualenv1708fc5f39e4447d96d2ebb3dc067dbc"
  },
  "language_info": {
   "codemirror_mode": {
    "name": "ipython",
    "version": 3
   },
   "file_extension": ".py",
   "mimetype": "text/x-python",
   "name": "python",
   "nbconvert_exporter": "python",
   "pygments_lexer": "ipython3",
   "version": "3.7.3"
  }
 },
 "nbformat": 4,
 "nbformat_minor": 2
}
